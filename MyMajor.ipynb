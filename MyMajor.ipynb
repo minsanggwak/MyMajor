{
  "nbformat": 4,
  "nbformat_minor": 0,
  "metadata": {
    "colab": {
      "provenance": [],
      "authorship_tag": "ABX9TyNVWhLaxvFtr5YoAAl3Hh1y",
      "include_colab_link": true
    },
    "kernelspec": {
      "name": "python3",
      "display_name": "Python 3"
    },
    "language_info": {
      "name": "python"
    }
  },
  "cells": [
    {
      "cell_type": "markdown",
      "metadata": {
        "id": "view-in-github",
        "colab_type": "text"
      },
      "source": [
        "<a href=\"https://colab.research.google.com/github/minsanggwak/MyMajor/blob/main/MyMajor.ipynb\" target=\"_parent\"><img src=\"https://colab.research.google.com/assets/colab-badge.svg\" alt=\"Open In Colab\"/></a>"
      ]
    },
    {
      "cell_type": "markdown",
      "source": [
        "# 🗾🍣 **저희 <font color = 'red'> 일어일문학과</font>를 소개합니다.**\n",
        "* ## [일어일문학과 홈페이지](https://japan.hannam.ac.kr/)\n",
        "\n"
      ],
      "metadata": {
        "id": "nNT0XDxhyuV6"
      }
    },
    {
      "cell_type": "markdown",
      "source": [
        "# **주로 배우는 것들**\n",
        "\n",
        "* 일본어\n",
        "* 일본 문학\n",
        "* 일본 역사 등등..."
      ],
      "metadata": {
        "id": "fZmyziJ6-g8y"
      }
    },
    {
      "cell_type": "markdown",
      "source": [
        "\n",
        "\n",
        "# **참고사항**\n",
        "\n",
        "* # 학과 행사 **[홈페이지](https://japan.hannam.ac.kr/event/)**\n",
        "* # 졸업생 **[취업소식](https://japan.hannam.ac.kr/employment/)**"
      ],
      "metadata": {
        "id": "dzi1L_oA9kPZ"
      }
    }
  ]
}